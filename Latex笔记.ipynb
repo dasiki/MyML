{
 "cells": [
  {
   "cell_type": "markdown",
   "metadata": {},
   "source": [
    "参考  https://blog.csdn.net/qq_39232265/article/details/78868487\n",
    "\n",
    "https://blog.csdn.net/u014630987/article/details/70156489\n",
    "\n",
    "https://blog.csdn.net/anxiaoxi45/article/details/39449445\n",
    "\n",
    "在CSDN-Markdown中书写多行大括号公式   https://blog.csdn.net/hhy_csdn/article/details/83722106\n",
    "\n",
    "各种数学公式运算符：  https://blog.csdn.net/fu_xuantong/article/details/80645136\n",
    "\n",
    "# LaTex数学符号总结\n",
    "\n",
    "命令{\\frac{a}{b}}形式：$\\frac{a}{b}$\n",
    "\n",
    "命令：\\sum_{i=1}^n p_i 形式：$\\sum_{i=1}^n p_i$\n",
    "\n",
    "空格：$a \\quad b$      $a \\qquad b$\n"
   ]
  },
  {
   "cell_type": "markdown",
   "metadata": {},
   "source": [
    "### 1) 数学模式重音符\n",
    "### 1: $\\hat{a}$   2：$\\check{a}$  3：$\\tilde{a}$  4：$\\acute{a}$  5：$\\grave{a}$  6：$\\dot{a}$  7：$\\ddot{a}$  8：$\\breve{a}$  9：$\\bar{a}$  10：$\\vec{a}$  11：$\\widehat{a}$  12：$\\widetilde{a}$"
   ]
  },
  {
   "cell_type": "markdown",
   "metadata": {},
   "source": [
    "### 2) 小写希腊字母"
   ]
  },
  {
   "cell_type": "markdown",
   "metadata": {},
   "source": [
    "### 1：$\\alpha$  2：$\\beta$  3：$\\gamma$  4：$\\delta$  5：$\\epsilon$  6：$\\varepsilon$  7：$\\zeta$  8：$\\eta$  9：$\\upsilon$  10：$\\chi$  11：$\\theta$  12：$\\vartheta$  13：$\\iota$  14：$\\kappa$  15：$\\lambda$  16：$\\mu$  17：$\\nu$  18：$\\xi$  19：$\\phi$  20：$\\psi$  21：$o$  22：$\\pi$  23：$\\varpi$  24：$\\rho$  25：$\\varrho$  26：$\\sigma$  27：$\\varsigma$  28：$\\tau$  29：$\\varphi$  30：$\\omega$  "
   ]
  },
  {
   "cell_type": "markdown",
   "metadata": {},
   "source": [
    "### 3) 大写希腊字母\n",
    "$\\Gamma$  $\\Delta$  $\\Theta$  $\\Psi$  $\\Lambda$  $\\Xi$  $\\Pi$  $\\Omega$  $\\Sigma$  $\\Upsilon$  $\\Phi$"
   ]
  },
  {
   "cell_type": "markdown",
   "metadata": {},
   "source": [
    "### 斜体: $\\varGamma$  $\\varDelta$  $\\varTheta$  $\\varPsi$  $\\varLambda$  $\\varXi$  $\\varPi$  $\\varOmega$  $\\varSigma$  $\\varUpsilon$  $\\varPhi$"
   ]
  },
  {
   "cell_type": "markdown",
   "metadata": {},
   "source": [
    "### 4）二元关系符 \n",
    "### 1：$>$ 2：$<$ 3：$=$ 4：$\\leq$ 5：$\\geq$ 6：$\\equiv$ 7：$\\ll$ 8：$\\gg$ 9：$\\doteq$ 10：$\\prec$ 11：$\\succ$ 12：$\\sim$ 13：$\\preceq$ 14：$\\succeq$ 15：$\\simeq$ 16：$\\subset$ 17：$\\supset$ \n",
    "\n",
    "### 18：$\\approx$ 19：$\\subseteq$ 20：$\\supseteq$ 21：$\\cong$ 22：$\\sqsubset$ 23：$\\sqsupset$ 24：$\\Join$ 25：$\\sqsubseteq$ 26：$\\sqsupseteq$ 27：$\\bowtie$ 28：$\\in$ 29：$\\ni or \\owns$ 30：$\\propto$ 31：$\\vdash$ \n",
    "\n",
    "### 32：$\\dashv$ 33：$\\models$ 34：$\\mid$ 35：$\\parallel$ 36：$\\perp$ 37：$\\smile$ 38：$\\frown$ 39：$\\asymp$ 40：$:$ 41：$\\notin$ 42：$\\neq or \\ne$  43: $\\sim$"
   ]
  },
  {
   "cell_type": "markdown",
   "metadata": {},
   "source": [
    "### 5）二元运算符\n",
    "### 1：$+$ 2：$-$ 3：$\\pm$ 4：$\\mp$ 5：$\\triangleleft$ 6：$\\cdot$ 7：$\\div$ 8：$\\triangleright$ 9：$\\times$ 10：$\\setminus$ 11：$\\star$ 12：$\\cup$ 13：$\\cap$ 14：$\\ast$ 15：$\\sqcup$ 16：$\\sqcap$ 17：$\\circ$ 18：$\\vee or \\lor$ 19：$\\wedge or \\land$ 20：$\\bullet$ 21：$\\oplus$ 22：$\\ominus$ 23：$\\diamond$ 24：$\\odot$ 25：$\\oslash$ 26：$\\uplus$ 27：$\\otimes$ 28：$\\bigcirc$ 29：$\\amalg$ 30：$\\bigtriangleup$ 31：$\\bigtriangledown$ 32：$\\dagger$ 33：$\\lhd$ 34：$\\rhd$ 35：$\\ddagger$ 36：$\\unlhd$ 37：$\\unrhd$ 38：$\\wr$ "
   ]
  },
  {
   "cell_type": "markdown",
   "metadata": {},
   "source": [
    "### 6) 大尺寸运算符\n",
    "#### 1：$\\sum$ 2：$\\bigcup$ 3：$\\bigcap$ 4：$\\bigvee$ 5：$\\bigoplus$ 6：$\\prod$ 7：$\\bigwedge$ 8：$\\bigotimes$ 9：$\\coprod$ 10：$\\bigsqcup$ 11：$\\bigodot$ 12：$\\int$ 13：$\\oint$ 14：$\\biguplus$  "
   ]
  },
  {
   "cell_type": "markdown",
   "metadata": {},
   "source": [
    "### 7) 箭头\n",
    "### 1：$\\leftarrow or \\gets$ 2：$\\rightarrow or \\to$ 3：$\\leftrightarrow$ 4：$\\Leftarrow$ 5：$\\Rightarrow$ 6：$\\Leftrightarrow$ 7：$\\mapsto$ 8：$\\hookleftarrow$ 9：$\\leftharpoonup$ 10：$\\leftharpoondown$ 11：$\\rightleftharpoons$ 12：$\\longleftarrow$ 13：$\\longrightarrow$ 14：$\\longleftrightarrow$ 15：$\\Longleftarrow$ 16：$\\Longrightarrow$ 17：$\\Longleftrightarrow$ 18：$\\longmapsto$ 19：$\\hookrightarrow$ 20：$\\rightharpoonup$ 21：$\\rightharpoondown$ 22：$\\iff$ 23：$\\uparrow$ 24：$\\downarrow$ 25：$\\updownarrow$ 26：$\\Uparrow$ 27：$\\Downarrow$ 28：$\\Updownarrow$ 29：$\\nearrow$ 30：$\\searrow$ 31：$\\swarrow$ 32：$\\nwarrow$ 33：$\\leadsto$ \n"
   ]
  },
  {
   "cell_type": "markdown",
   "metadata": {},
   "source": [
    "### 8) 定界符\n",
    "$($  $)$  $\\uparrow$  $[ or \\lbrack$  $] or \\rbrack$  $\\downarrow$  $\\lbrace\n",
    "$  $\\rbrace$  $\\updownarrow$  $\\langle$  $\\rangle$ \n",
    "\n",
    "$\\big(()\\big)$\n",
    "\n",
    "$\\Bigg(\\bigg(\\Big(\\big($"
   ]
  },
  {
   "cell_type": "markdown",
   "metadata": {},
   "source": [
    "$\\Uparrow$ $\\$$ $| or \\vert$ $\\Downarrow$ $\\lfloor$ $\\rfloor$ $\\Updownarrow$ $\\lceil$ $\\rceil$ $/$ $\\backslash$ "
   ]
  },
  {
   "cell_type": "markdown",
   "metadata": {},
   "source": [
    "### 9）大括号$$sign(x)=\\left\\{\n",
    "\\begin{aligned}\n",
    "+1,&     &x\\geq 0\\\\\n",
    "-1,&     &x < 0\n",
    "\\end{aligned}\n",
    "\\right.\n",
    "$$"
   ]
  },
  {
   "cell_type": "markdown",
   "metadata": {},
   "source": [
    "### 10）微积分 $\\int_{-\\infty}^{+\\infty}f(x)$"
   ]
  },
  {
   "cell_type": "markdown",
   "metadata": {},
   "source": [
    "### 11）普通字符上标 $\\mathop f \\limits^{\\wedge}$\n",
    "### 12）普通字符下标 $\\mathop {min} \\limits_{w,b}$"
   ]
  },
  {
   "cell_type": "markdown",
   "metadata": {},
   "source": [
    "Jupyter markdown编辑器语法——字体、字号与颜色   https://blog.csdn.net/liuzhuang2017/article/details/80233342"
   ]
  },
  {
   "cell_type": "markdown",
   "metadata": {},
   "source": [
    "### 13) 大尺寸定界符\n",
    "$\\lgroup$ $\\rgroup$"
   ]
  },
  {
   "cell_type": "markdown",
   "metadata": {},
   "source": [
    "#### 14) 公式对齐\n",
    "\n",
    "**align（多个公式）**\n",
    "* 它采用“&”分割各个对齐单元，使用“\\\\”换行。\n",
    "\n",
    "$\\begin{align}\n",
    "f(x) &= (x+a)(x+b) \\\\\n",
    "     &= x^2 + (a+b)x + ab\n",
    "\\end{align}\n",
    "$"
   ]
  },
  {
   "cell_type": "markdown",
   "metadata": {},
   "source": [
    "#### 15) 导数相关符号\n",
    "**偏导符号：** $\\partial x$  \n",
    "#### $$一阶偏导： \\frac{\\partial f}{\\partial x}$$ \n",
    "#### $$n阶偏导： \\frac{\\partial ^n f}{\\partial x^n}$$\n",
    "\n",
    "\n",
    "**求导符号：** $\\mathrm{d} x$  \n",
    "#### $$一阶求导： \\frac{\\mathrm{d} f}{\\mathrm{d} x}$$ \n",
    "#### $$n阶求导： \\frac{\\mathrm{d} ^n f}{\\mathrm{d} x^n}$$\n",
    "\n",
    "**撇形式的求导符号：** $x^{'}$  \n",
    "#### $$\\frac{y^{'} }{x^{'}}$$\n",
    "\n",
    "**点形式的求导符号：** $\\dot x$  $\\ddot y$  \n",
    "#### $$\\frac{\\dot y}{\\dot x}$$\n",
    "#### $$\\frac{\\ddot y}{\\ddot x}$$\n",
    "#### $$\\frac{\\dddot y}{\\dddot x}$$\n",
    "\n",
    "\n",
    "**全微分算子：** $\\nabla f$  \n"
   ]
  },
  {
   "cell_type": "markdown",
   "metadata": {},
   "source": [
    "#### 15) 因为所以\n",
    "#### $因为：\\because   \\\\ 所以：\\therefore$"
   ]
  },
  {
   "cell_type": "markdown",
   "metadata": {},
   "source": [
    "\n",
    "\n"
   ]
  },
  {
   "cell_type": "markdown",
   "metadata": {},
   "source": [
    "#### 16) 字母花体\n",
    "\n",
    "\\usepackage{amsthm,amsmath,amssymb}\n",
    "\n",
    "\\usepackage{mathrsfs}\n",
    "\n",
    "$\\mathbb{R}$\n",
    "\n",
    "$\\mathcal{FPX}$"
   ]
  },
  {
   "cell_type": "markdown",
   "metadata": {},
   "source": [
    "\n",
    "\n",
    "\n"
   ]
  },
  {
   "cell_type": "markdown",
   "metadata": {},
   "source": [
    "#### 17) 插入图片\n",
    "\n",
    "<img src = \"\\ML-liang\\svm_alpha12.png\"  width=300 height=300> "
   ]
  },
  {
   "cell_type": "markdown",
   "metadata": {},
   "source": []
  },
  {
   "cell_type": "markdown",
   "metadata": {},
   "source": []
  },
  {
   "cell_type": "markdown",
   "metadata": {},
   "source": []
  }
 ],
 "metadata": {
  "kernelspec": {
   "display_name": "Python 3",
   "language": "python",
   "name": "python3"
  },
  "language_info": {
   "codemirror_mode": {
    "name": "ipython",
    "version": 3
   },
   "file_extension": ".py",
   "mimetype": "text/x-python",
   "name": "python",
   "nbconvert_exporter": "python",
   "pygments_lexer": "ipython3",
   "version": "3.6.10"
  }
 },
 "nbformat": 4,
 "nbformat_minor": 4
}
