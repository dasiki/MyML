{
 "cells": [
  {
   "cell_type": "markdown",
   "metadata": {},
   "source": [
    "### 激活函数\n",
    "#### Relu函数：若x>0 x 否则为0\n",
    "#### sigmod函数：y取值0-1之间\n",
    "#### tanh函数： y取值 [-1,1]"
   ]
  },
  {
   "cell_type": "code",
   "execution_count": null,
   "metadata": {},
   "outputs": [],
   "source": [
    "import numpy as np \n",
    "import matplotlib.pyplot as plt\n",
    "\n",
    "def relu(x):\n",
    "    return max(x,0)\n",
    "\n",
    "def sigmod(x):\n",
    "    return (1 / (1+np.exp(-x)))\n",
    "    \n",
    "def tanh(x):\n",
    "    return ((1-np.exp(-2*x))/(1+np.exp(-2*x)))\n",
    "    \n",
    "x=np.linspace(-10,10,100)\n",
    "\n",
    "y=[relu(i) for i in x]\n",
    "y_=[sigmod(j) for j in x]\n",
    "y2=[tanh(k) for k in x]\n",
    "\n",
    "# plt.plot(x,y)\n",
    "plt.plot(x,y_)\n",
    "plt.plot(x,y2)\n",
    "\n"
   ]
  },
  {
   "cell_type": "code",
   "execution_count": null,
   "metadata": {},
   "outputs": [],
   "source": [
    "help(np.exp)"
   ]
  },
  {
   "cell_type": "code",
   "execution_count": null,
   "metadata": {},
   "outputs": [],
   "source": [
    "import "
   ]
  },
  {
   "cell_type": "markdown",
   "metadata": {},
   "source": [
    "tf.Variable: 保存和更新神经网络中的参数"
   ]
  }
 ],
 "metadata": {
  "kernelspec": {
   "display_name": "Python 3",
   "language": "python",
   "name": "python3"
  },
  "language_info": {
   "codemirror_mode": {
    "name": "ipython",
    "version": 3
   },
   "file_extension": ".py",
   "mimetype": "text/x-python",
   "name": "python",
   "nbconvert_exporter": "python",
   "pygments_lexer": "ipython3",
   "version": "3.6.7"
  }
 },
 "nbformat": 4,
 "nbformat_minor": 4
}
