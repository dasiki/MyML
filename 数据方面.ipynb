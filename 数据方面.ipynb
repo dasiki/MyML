{
 "cells": [
  {
   "cell_type": "markdown",
   "metadata": {},
   "source": [
    "## <font color='blue'><b>似然函数</b></font>"
   ]
  },
  {
   "cell_type": "markdown",
   "metadata": {
    "jupyter": {
     "source_hidden": true
    }
   },
   "source": [
    "统计学上，似然函数是一种关于统计模型参数的函数。\n",
    "\n",
    "**似然函数与概率的区别：** \n",
    "\n",
    "* 概率描述了已知参数时的随机变量的输出结果 ；<font color='red'><b>用于在已知参数的情况下，预测接下来的观测所得到的结果</b></font>。\n",
    "\n",
    "* 似然函数则用来描述已知随机变量输出结果时，未知参数的可能取值。例如，给定输出$x$,关于参数$\\theta$ 的似然函数$L(\\theta|x)$ (在数值上）等于给定参数参数$\\theta$后变量$X$的概率：$L(\\theta|x) = P(X=x|\\theta)$  <font color='red'><b>似然性是用于在已知某些观测所得到的结果时，对有关事件的性质的参数进行估计</b></font>。\n",
    "\n",
    "\n",
    "**离散型概率分布** 假定一个关于参数$\\theta$、具有离散型概率分布$P$的随机变量$X$， 则在给定$X$的输出$x$时，参数$\\theta$的似然函数可表示为\n",
    "#### $$L(\\theta|x) = p_\\theta(x) = P_\\theta(X = x)$$ \n",
    "其中，$p(x)$表示$X$取$x$时的概率。 上式常写成 **$P(X=x|\\theta)$ 或 $P(X=x;\\theta)$**\n",
    "\n",
    "\n",
    "**连续型概率分布** 假定一个关于参数$\\theta$、具有连续概率密度函数$f$的随机变量$X$， 则在给定$X$的输出$x$时，参数$\\theta$的似然函数可表示为\n",
    "#### $$L(\\theta|x) = f_\\theta(x)$$ \n",
    "上式常写成 **$f(x|\\theta)$** ; \n",
    "\n",
    "<font size=2 color=\"red\"><i><b>似然函数的主要用法在于比较它相对取值，虽然这个数值本身不具备任何含义。例如，考虑一组样本，当其输出固定时，这组样本的某个未知参数往往会倾向于等于某个特定值，而不是随便的其他数，此时，似然函数是最大的.</b></i></font>\n",
    "\n",
    "\n",
    "\n",
    "**对数似然函数** 求解一个函数的极大化往往需要求解该函数的关于未知参数的偏导数。由于对数函数是单调递增的，而且对数似然函数在极大化求解时较为方便，所以，对数似然函数常用在最大似然估计及相关领域中。\n",
    "***"
   ]
  },
  {
   "cell_type": "markdown",
   "metadata": {},
   "source": [
    "## <font color='blue'><b>数学期望</b></font>"
   ]
  },
  {
   "cell_type": "markdown",
   "metadata": {
    "jupyter": {
     "source_hidden": true
    }
   },
   "source": [
    "在概率论和统计学中，数学期望(mean)（或均值，亦简称期望）是试验中每次可能结果的概率乘以其结果的总和，是最基本的数学特征之一。**它反映随机变量平均取值的大小**。\n",
    "\n",
    "**大数定律**规定，随着重复次数接近无穷大，数值的算术平均值几乎肯定地收敛于期望值。\n",
    "\n",
    "\n",
    "**离散型** 离散型随机变量的一切可能的取值$x_i$与对应的概率$p(x_i)$乘积之和称为该离散型随机变量的数学期望 (若该求和绝对收敛），记为$E(x)$。它是简单算术平均的一种推广，类似加权平均。\n",
    "#### $$E(x) = \\sum_{k=1}^\\infty x_kp_k$$\n",
    "\n",
    "**连续型** 连续型随机变量$X$的概率密度函数为$f(x)$，若积分绝对收敛，则称积分的值$\\int_{-\\infty}^{+\\infty}xf(x)dx$ 为随机变量的数学期望，记为\n",
    "#### $$E(x) = \\int_{-\\infty}^{+\\infty}xf(x)dx $$\n",
    "***"
   ]
  },
  {
   "cell_type": "markdown",
   "metadata": {},
   "source": [
    "## <font color='blue'><b>方差</b></font>"
   ]
  },
  {
   "cell_type": "markdown",
   "metadata": {},
   "source": [
    "**方差是衡量随机变量或一组数据离散程度的度量。**\n",
    "\n",
    "**概率论中，方差用来度量随机变量和其数学期望（即均值）之间的偏离程度。** $D(X) = E[ (X - E[X]) ^2] = E(X^2) - [E(X)]^2$ , $D(X)$ 是随机变量 $X$ 的方差，$E(X)$ 是 $X$ 的期望值。\n",
    "\n",
    "**统计中的方法（样本方差）是每个样本值与全体样本值的平均数之差的平方值的平均数。** <font size=4> $\\sigma^2 = \\frac{\\sum(X - \\mu)^2}{N} ,\\quad \\sigma^2$ </font> 为总体方差，$X$ 为变量， $\\mu$ 为总体均值， $N$ 为总体样本数。\n",
    "\n",
    "**方差的性质**\n",
    "\n",
    "1、 设$C$ 是常量，$ D(C) = 0$ \n",
    "\n",
    "2、$ X$ 是随机变量，$C$ 是常量，$ D(CX) = C^2 D(X),\\quad D(X+C) = D(X)$ \n",
    "\n",
    "3、$ X,Y$ 是随机变量，$ D(X\\pm Y) = D(X) + D(Y) \\pm 2Cov(X,Y)$, 其中，协方差 $ Cov(X,Y) = E\\big[(X-E(X))(Y-E(Y))\\big] = E(XY) - E(X)E(Y) $\n",
    "\n",
    "当$ X,Y$ 是两个不相关的随机变量时，  $ D(X\\pm Y) = D(X) + D(Y)$ \n",
    "\n",
    "4、$ D(X) = 0$ 的**充分必要条件** 是 $X $ 以概率1取常数 $E(X) $, 即 $P\\{X = E(X)\\} =1 $\n",
    "\n",
    "5、$  D(aX + bY) = a^2DX + b^2 DY + 2abCov(X,Y)$ \n",
    "***"
   ]
  },
  {
   "cell_type": "markdown",
   "metadata": {},
   "source": [
    "## <font color='blue'><b>协方差</b></font>"
   ]
  },
  {
   "cell_type": "markdown",
   "metadata": {},
   "source": [
    "在概率论和统计学中，**协方差用于衡量两个变量的总体误差。** 而方差是协方差的一种情况，即当两个变量是相同的情况。\n",
    "\n",
    "期望分别为 $E(X),E(Y)$ 的两个实随机变量 $X$ 和 $Y$ 之间的协方差 $Cov(X,Y)$ 定义为：\n",
    "#### $$\\begin{align}Cov(X,Y) & = E\\big[ (X - E(X)) (Y - E(Y)) \\big] \\\\\n",
    "                             & = E\\big[(XY + E(X)E(Y) -YE(X) - XE(Y))\\big] \\\\\n",
    "                             & = E[XY] + E[X]E[Y] - 2E[X]E[Y] \\\\\n",
    "                             & = E[XY] - E[X]E[Y] \\end{align}$$\n",
    "                             \n",
    "从直观上看, 协方差表示的是两个变量总体误差的期望。\n",
    "\n",
    "如果两个变量的趋一致，也就是说，如果其中一个大于自身期望，那么另一个也大于自身的期望值，那么两个变量之间的协方差就是正值。\n",
    "\n",
    "如果两个变量的变化趋势相反，即其中一个变量大于自身的期望值时另外一个却小于自身的期望值，那么两个变量之间的协方差是负值。\n",
    "\n",
    "**如果 $X,Y$ 是统计独立的，那么两个独立的随机变量满足 $E(XY) = E(X)E(Y)$ ; 二者之间的协方差就是0**；但是，反过来，如果协方差是0，二者不一定是统计独立的。\n",
    "\n",
    "**协方差 $Cov(X,Y)$ 的度量单位是 $X$ 的协方差乘以 $Y$ 的协方差。而取决于协方差的相关性，是一个衡量线性独立的无量纲的数**\n",
    "\n",
    "**<font color=\"red\"> 协方差为0的两个随机变量是不相关的</font>**\n",
    "\n",
    "\n",
    "**协方差与方差的关系**\n",
    "\n",
    "1、$D(X + Y) = D(X) + D(Y) + 2Cov(X,Y) $  \n",
    "\n",
    "2、$D(X - Y) = D(X) + D(Y) - 2Cov(X,Y) $  \n",
    "\n",
    "**协方差与期望的关系： $Cov(X,Y) = E(XY) - E(X)E(Y) $**\n",
    "\n",
    "**协方差的性质：**\n",
    "\n",
    "1、$Cov(X,Y) = Cov(Y,X) $  \n",
    "\n",
    "2、$Cov(aX, bY) = abCov(X,Y) $  \n",
    "\n",
    "3、$Cov(X_1 + X_2 ,Y) = Cov(X_1, Y) + Cov(X_2,Y) $\n",
    "\n",
    "4、$ Cov(X,X) = D(X) $ \n",
    "***"
   ]
  },
  {
   "cell_type": "markdown",
   "metadata": {},
   "source": [
    "## <font color='blue'><b>协方差矩阵</b></font>"
   ]
  },
  {
   "cell_type": "markdown",
   "metadata": {
    "jupyter": {
     "source_hidden": true
    }
   },
   "source": [
    "在统计学和概率论中，**协方差矩阵的每个元素是各个向量元素之间的协方差**，是从**标量随机变量** 到 **高维度随机变量** 的自然推广\n",
    "\n",
    "**概念**\n",
    "\n",
    "设 $ X=(X_1,X_2,\\cdots,X_n)^T$ 为 $n$ 维随机向量，称矩阵   \n",
    "#### $$ C = (c_{ij})_{n\\times n} = \\left [\\begin{align} &c_{11}&\\quad &c_{12}&\\quad&\\cdots&\\quad&c_{1n} \\\\\n",
    "                                                        &c_{21}&\\quad &c_{22}&\\quad&\\cdots&\\quad&c_{2n} \\\\\n",
    "                                                        &\\vdots&\\quad &\\vdots&\\quad&      &\\quad&\\vdots \\\\\n",
    "                                                        &c_{n1}&\\quad &c_{n2}&\\quad&\\cdots&\\quad&c_{nn}  \\end{align}\\right ]$$\n",
    "为 $ n$ 维随机变量 $X $的协方差矩阵(Covariance matrix),  记作 $D(X) $,其中，$c_ij = Cov(X_i,X_j), i,j = 1,2,\\cdots,n$\n",
    "\n",
    "**协方差矩阵的性质**\n",
    "\n",
    "1、$ Cov(X,Y) = Cov(Y,X)^T$  \n",
    "\n",
    "2、$ Cov(AX + b,Y) = ACov(X,Y)$  \n",
    "\n",
    "3、$ Cov(X+Y, Z) = Cov(X,Z) + Cov(Y,Z)$ \n",
    "***"
   ]
  },
  {
   "cell_type": "markdown",
   "metadata": {},
   "source": []
  },
  {
   "cell_type": "markdown",
   "metadata": {},
   "source": []
  },
  {
   "cell_type": "markdown",
   "metadata": {},
   "source": []
  },
  {
   "cell_type": "markdown",
   "metadata": {},
   "source": [
    "***\n",
    "# <font color = \"red\"><b> 概率部分 </b></font>"
   ]
  },
  {
   "cell_type": "markdown",
   "metadata": {},
   "source": [
    "## <font color='blue'><b>0-1分布</b></font>"
   ]
  },
  {
   "cell_type": "markdown",
   "metadata": {
    "jupyter": {
     "source_hidden": true
    }
   },
   "source": [
    "**0-1分布** 就是$n=1$情况下的<font colur='blue'>二项分布</font>。即先进行一次试验，该事件发生的概率为$p$, 不发生的概率为$1-p$。\n",
    "\n",
    "**定义(0-1分布)** 设离散随机变量的分布律为 <font size=3><b>$P\\{X=k\\} = p^k(1-p)^{1-k}$</b></font> 其中，$k = 0,1$ ; $p$为$k=1$是的概率$(0 < p <1)$， 则称$X$ 服从0-1分布，又称为2点分布；记为$X \\sim B(X,p)$\n",
    "\n",
    "**伯努利分布(二项分布)** 如果随机试验E满足： 将一个试验在相同条件下重复进行$n$次，各次试验仅有两个结果$A 和 \\mathop A\\limits^{-}$. 事件$A$ 的概率在各次试验中保持不变，$P(A) = p, P(\\mathop A\\limits^{-}) = 1-p$ ; 短吻间银鱼试验结果互不影响，则称随机试验E为n次伯努力试验。 如果$n$次伯努利试验，取得成功的次数为$X$的概率，可用以下公式描述：\n",
    "#### $$P = C(X,n)*p^x(1-p)^{(n-X)}$$\n",
    "\n",
    "**数学期望：** $E(X) = p$\n",
    "\n",
    "**方差：** $D(X) = p(1-p)$\n"
   ]
  },
  {
   "cell_type": "markdown",
   "metadata": {},
   "source": [
    "## <font color='blue'><b>其他：</b></font>"
   ]
  },
  {
   "cell_type": "markdown",
   "metadata": {},
   "source": [
    "在概率论中，任何随机变量的**特征函数**(缩写：ch.f,复数形式：ch.f's)完全定义了它的概率分布。"
   ]
  },
  {
   "cell_type": "markdown",
   "metadata": {},
   "source": []
  },
  {
   "cell_type": "markdown",
   "metadata": {},
   "source": [
    "## <font color='blue'><b>欧氏空间</b></font>"
   ]
  },
  {
   "cell_type": "markdown",
   "metadata": {
    "jupyter": {
     "source_hidden": true
    }
   },
   "source": [
    "**定义(欧氏空间)：**\n",
    "\n",
    "设$V$是**实数域**$R$上的**线性空间**（或称为**向量空间**), 若$V$上定义着正定对称**双改线型**$g$（$g$称为内积）,则$V$称为（对于$g$的）**内积空间**或欧几里德空间（有时仅当$V$是有限维时，才称为欧几里德空间）。具体地，$g$是$V$上的二元实值函数，满足如下关系：\n",
    "\n",
    " （1） $g(x,y) = g(y,x)$\n",
    " \n",
    " （2） $g(x+y,z) = g(x,z) + g(y,z)$\n",
    " \n",
    " （3） $g(kx,y) = kg(x,y)$\n",
    " \n",
    " （4） $g(x,y)\\geq 0$, 而且 $g(x,y) = 0$ 当且仅当 $x=0$时成立 \n",
    " \n",
    "这里，$x,y,z$是$V$中任意向量，$k$是任意实数。\n"
   ]
  },
  {
   "cell_type": "markdown",
   "metadata": {},
   "source": [
    "## <font color='blue'><b>希尔伯特空间</b></font>"
   ]
  },
  {
   "cell_type": "markdown",
   "metadata": {
    "jupyter": {
     "source_hidden": true
    }
   },
   "source": [
    "**定义（希尔伯特空间）**\n",
    "\n",
    "希尔伯特空间就欧氏空间的直接推广。对希尔伯特空间及八月和在希尔伯特空间上的算子的研究是**泛函分析**的重要组成部分。\n",
    "\n",
    "设$H$是一个实的线性空间，如果对$H$中的任何两个向量$x和y$, 都对应着一个实数，记为$(x,y)$, 满足下列条件：\n",
    "\n",
    " （1） 对$H$中的任何两个向量$x,y$,有$(x,y) = (y,x)$\n",
    " \n",
    " （1） 对$H$中的任何两个向量$x,y,z$ 及实数$\\alpha,\\beta$,有 $(\\alpha x+\\beta y,z) = \\alpha(x,z) + \\beta(y,z)$\n",
    " \n",
    " （1） 对$H$中的任何两个向量$x$,均有$(x,y)\\geq 0$, 且$(x,x)=0$的充分必要条件是$x=0$。 则$(x,y)$称为$H$上的一个内积，而$H$称为内积空间。\n",
    " \n",
    " 如果定义$||x|| = \\sqrt{(x,x)}$, 则在$||0||$下, $H$构成一个**线性赋范空间**\n",
    " \n",
    " 完备的内积空间称为希尔伯特空间，希尔伯特空间的概念还可以推广到复线性空间上。"
   ]
  },
  {
   "cell_type": "markdown",
   "metadata": {},
   "source": []
  },
  {
   "cell_type": "markdown",
   "metadata": {},
   "source": []
  },
  {
   "cell_type": "markdown",
   "metadata": {},
   "source": [
    "***\n",
    "# <font color = \"red\"><b> 线性代数 </b></font>"
   ]
  },
  {
   "cell_type": "markdown",
   "metadata": {},
   "source": [
    "## <font color='blue'><b>特征值与特征向量</b></font>"
   ]
  },
  {
   "cell_type": "markdown",
   "metadata": {},
   "source": [
    "设 $A$ 为 $n$ 阶矩阵，若存在常数 $\\lambda$ 及 $n$ 维非零向量 $x$，使得 $Ax = \\lambda x$,则称 $\\lambda$ 是矩阵 $A$ 的**特征值**， $x$ 是 $A$属于特征值 $\\lambda$ 的**特征向量**。 $A$ 的所有特征值的全体，叫做 $A$ 的谱，记作 $\\lambda(A)$  \n",
    "\n",
    "**求 $n$ 阶矩阵 $A$ 的特征值的基本方法：**\n",
    "\n",
    "$Ax = \\lambda x \\Rightarrow (\\lambda E - A) x = 0$ 其中 $E$ 为单位矩阵；要求向量 $x$ 具有非零解，即求齐次线性方程组 $(\\lambda E - A) = 0 $ 有非零解的值 $\\lambda$,即解行列式 $det(\\lambda E - A) = 0 $, 获得的 $\\lambda$ 值即为 矩阵 $A$ 的特征值，将此值代入原式求得相应的 $x$，即为输入这个行列式的特征向量； \n",
    "\n",
    "具体步骤：\n",
    "\n",
    "1）计算的特征多项式；\n",
    "\n",
    "2）求出特征方程的全部根，即为 $A$ 的全部特征值；\n",
    "\n",
    "3）对于每个特征值，求出齐次线性方程组的一个基础解系，即属于特征值的全部特征向量是 $A$ 的特征向量。\n",
    "\n",
    "**注：特征向量不是由特征值唯一确定的。反之，不同特征值对应的特征向量不会相等，即一个特征向量只能属于一个特征值。**\n",
    "\n",
    "**基本应用：**\n",
    "\n",
    "1）**求特征向量**\n",
    "\n",
    "2）**判断相似矩阵的必要条件** 设有 $n$ 阶矩阵 $A$ 和 $B$， 若 $A$ 和 $B$ 相似 $(A\\sim B)$，则有：\n",
    "\n",
    "$\\quad$ a) $A$ 的特征值与 $B$的特征值相同 ——  $\\lambda(A) = \\lambda(B)$，特别地 $\\lambda(A) = \\lambda(\\bigwedge) , \\bigwedge$ 为 $A$ 的对角矩阵；\n",
    "\n",
    "$\\quad$ b) $A$ 的特征多项式与$B$ 的特征多项式相同 ——  $|\\lambda E - A| = |\\lambda E - B|$ \n",
    "\n",
    "$\\quad$ c) $A$ 的迹等于 $B$ 的迹 ——  $trA = trB / \\sum_{i=1}^n a_{ii} = \\sum_{i=b}^n b_{ii},\\quad 其中 i=1,2,\\cdots,n$ (即为主对角线的元素之和）\n",
    "\n",
    "$\\quad$ d) $A$ 的行列式值等于 $B$ 的行列式值 ——  $|A| = |B|$ \n",
    "\n",
    "$\\quad$ e) $A$ 的秩等于 $B$ 的秩 —— $r(A) = r(B)$\n",
    "\n",
    "$\\quad$ 因而，$A$ 与 $B$ 的特征值是否相同是判断 $A$ 与 $B$ 是否相似的根本依据。 \n",
    "\n",
    "3）**判断矩阵可对角化的条件** \n",
    "\n",
    "矩阵可对角化有两个充要条件：（1）矩阵有 $n$ 个不同的特征向量；（2）特征向量的重根的重数等于基础解的个数；对于第二个充要条件，则需要出现二重以上的重特征值可验证（一重相同于没有重根）。\n",
    "\n",
    "**若矩阵 $A$ 可对角化，则其对角矩阵 $\\bigwedge$ 的主对角元素全部为 $A$ 的特征值，其余元素全部为0**。（一个矩阵的对角阵不唯一，其特征值可以换序，但是都存在由对应特征向量顺序组成的矩阵 $P$ 使 $P^{-1}AP = \\bigwedge$ $$ $$ $$ $$ $$ $$ $$ $$ $$ "
   ]
  },
  {
   "cell_type": "markdown",
   "metadata": {},
   "source": []
  },
  {
   "cell_type": "markdown",
   "metadata": {},
   "source": [
    "## <font color='blue'><b>齐次线性方程组</b></font>"
   ]
  },
  {
   "cell_type": "markdown",
   "metadata": {},
   "source": [
    "常数项全部为0的线性方程组为齐次线性方程组。若 $m<n$ （行数小于列数，即未知数的数量大于所方程组数）,是齐次线性方程组有非零解，否则全为零解。"
   ]
  },
  {
   "cell_type": "markdown",
   "metadata": {},
   "source": [
    "## <font color='blue'><b>实对称矩阵</b></font>"
   ]
  },
  {
   "cell_type": "markdown",
   "metadata": {},
   "source": [
    "如果 $n$阶矩阵 $A$，其矩阵的元素都是实数，且矩阵 $A$ 的转置等于其本身 $a_{ij} = a_{ji}$，则称 $A$ 为实对称矩阵。"
   ]
  },
  {
   "cell_type": "markdown",
   "metadata": {},
   "source": [
    "## <font color='blue'><b>正交矩阵</b></font>"
   ]
  },
  {
   "cell_type": "markdown",
   "metadata": {},
   "source": [
    "若 $AA^T = E$ 或 $A^TA = E$， $E$为单位矩阵，则 $n$ 阶实矩阵 $A$ 称为**正交矩阵**；\n",
    "\n",
    "正交矩阵满足以下条件：\n",
    "\n",
    "1）$A^T$ 是正交矩阵\n",
    "\n",
    "2）$A^T$ 各行是单位向量且两两正交\n",
    "\n",
    "3）$A^T$ 各列是单位向量且两两正交 \n",
    "\n",
    "4）$|A| = 1 或 -1$ \n",
    "\n",
    "5）$A^T = A^{-1}$"
   ]
  },
  {
   "cell_type": "markdown",
   "metadata": {},
   "source": []
  },
  {
   "cell_type": "markdown",
   "metadata": {},
   "source": [
    " $$ $$ $$ $$ $$ $$ $$ $$ $$ $$ $$ $$ $$ $$ $$ $$ $$ $$ $$ $$ $$ $$ $$ $$ $$ $$ $$ $$ $$ $$ $$ "
   ]
  },
  {
   "cell_type": "markdown",
   "metadata": {},
   "source": []
  },
  {
   "cell_type": "markdown",
   "metadata": {},
   "source": [
    "<font size=4 color=\"red\"> 待增加笔记：矩阵的秩、正交变换</font>"
   ]
  },
  {
   "cell_type": "markdown",
   "metadata": {},
   "source": []
  }
 ],
 "metadata": {
  "kernelspec": {
   "display_name": "Python 3",
   "language": "python",
   "name": "python3"
  },
  "language_info": {
   "codemirror_mode": {
    "name": "ipython",
    "version": 3
   },
   "file_extension": ".py",
   "mimetype": "text/x-python",
   "name": "python",
   "nbconvert_exporter": "python",
   "pygments_lexer": "ipython3",
   "version": "3.6.7"
  }
 },
 "nbformat": 4,
 "nbformat_minor": 4
}
