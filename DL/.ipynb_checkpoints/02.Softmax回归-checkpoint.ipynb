{
 "cells": [
  {
   "cell_type": "markdown",
   "metadata": {},
   "source": [
    "## **Softmax回归**"
   ]
  },
  {
   "cell_type": "markdown",
   "metadata": {},
   "source": [
    "1、解决分类问题（例如图像分类）\n",
    "\n",
    "2、输出为离散值，输出单元从1个变为多个\n",
    "\n",
    "3、Softmax回归的输出层也是一个全连接层"
   ]
  },
  {
   "cell_type": "markdown",
   "metadata": {},
   "source": [
    "#### **1、模型**"
   ]
  },
  {
   "cell_type": "markdown",
   "metadata": {},
   "source": [
    "#### $$o_1 = x_1w_{11} + x_2w_{21} + x_3w{31} + x_4 w_{41} + b_1 \\\\\n",
    "       o_2 = x_1w_{12} + x_2w_{22} + x_3w{32} + x_4 w_{42} + b_2 \\\\\n",
    "       o_3 = x_1w_{13} + x_2w_{23} + x_3w{33} + x_4 w_{43} + b_3$$\n",
    "其中，$o_1,o_2,o_3$ 为 3 种不同的输出类别\n",
    "\n",
    "<img src = \"DL_lr.png\" width = 600 height = 400></img>\n",
    "\n",
    "**Softmax运算** 通过下式将输出值变成值为正且和为1的概率分布：\n",
    "#### $$\\hat{y}_1,\\hat{y}_2,\\hat{y}_3 = softmax(o_1,o_2,o_3)$$\n",
    "其中，\n",
    "#### $$\\begin{align} & \\hat{y}_1 = \\frac{exp(o_1)}{\\sum\\limits_{i=1}^3 exp(o_i)},\\quad \\hat{y}_2 = \\frac{exp(o_2)}{\\sum\\limits_{i=1}^3 exp(o_i)},\\quad \\hat{y}_3 = \\frac{exp(o_3)}{\\sum\\limits_{i=1}^3 exp(o_i)} \\\\\n",
    "                     & \\hat{y}_1 + \\hat{y}_2 + \\hat{y}_3 = 1 \\\\\n",
    "                     & 0 \\leq \\hat{y}_1 , \\hat{y}_2 , \\hat{y}_3 \\leq 1 \\end{align}$$\n",
    "最终，根据 概率最大的类即为最终类别 <font size=4> $\\mathop{argmax}\\limits_i o_i = \\mathop{argmax}\\limits_i \\hat{y}_i$ </font>\n"
   ]
  },
  {
   "cell_type": "markdown",
   "metadata": {},
   "source": [
    "### **矢量表达式：**\n",
    "\n",
    "#### $W = \\left[\\begin{align} & w_{11} &\\quad & w_{12} & \\quad & w_{13} \\\\\n",
    "                              & w_{21} &\\quad & w_{22} & \\quad & w_{23} \\\\ \n",
    "                              & w_{31} &\\quad & w_{32} & \\quad & w_{33} \\\\\n",
    "                              & w_{41} &\\quad & w_{42} & \\quad & w_{43} \\end{align}\\right] $，$\\quad b = [b_1 \\quad b_2\\quad b_3]$\n",
    "\n",
    "**输入层** 2*2图像，展开为4个特征值： <font size=4> $x^{(i)} = [x^{(i)}_1 \\quad x^{(i)}_2 \\quad x^{(i)}_3 \\quad x^{(i)}_4]$ </font>\n",
    "\n",
    "**输出层**：<font size=4> $o^{(i)} = [o^{(i)}_1 \\quad o^{(i)}_2 \\quad o^{(i)}_3]$ </font>\n",
    "\n",
    "**预测为狗、猫、鸡的概率分布：** <font size=4> $\\hat{y}^{(i)} = [\\hat{y}^{(i)}_1\\quad \\hat{y}^{(i)}_2\\quad \\hat{y}^{(i)}_3]$</font>\n",
    "\n",
    "Softmax回归对样本 $i$ 分类的矢量计算表达式为 \n",
    "#### $$o^{(i)} = x^{(i)}W + b \\\\ \\hat{y}^{(i)} = softmax\\big(o^{(i)} \\big)$$"
   ]
  },
  {
   "cell_type": "markdown",
   "metadata": {},
   "source": [
    "#### **2、策略 损失函数**"
   ]
  },
  {
   "cell_type": "markdown",
   "metadata": {},
   "source": []
  },
  {
   "cell_type": "markdown",
   "metadata": {},
   "source": []
  },
  {
   "cell_type": "markdown",
   "metadata": {},
   "source": []
  },
  {
   "cell_type": "markdown",
   "metadata": {},
   "source": []
  },
  {
   "cell_type": "markdown",
   "metadata": {},
   "source": []
  },
  {
   "cell_type": "code",
   "execution_count": null,
   "metadata": {},
   "outputs": [],
   "source": []
  }
 ],
 "metadata": {
  "kernelspec": {
   "display_name": "Python 3",
   "language": "python",
   "name": "python3"
  },
  "language_info": {
   "codemirror_mode": {
    "name": "ipython",
    "version": 3
   },
   "file_extension": ".py",
   "mimetype": "text/x-python",
   "name": "python",
   "nbconvert_exporter": "python",
   "pygments_lexer": "ipython3",
   "version": "3.6.10"
  }
 },
 "nbformat": 4,
 "nbformat_minor": 4
}
