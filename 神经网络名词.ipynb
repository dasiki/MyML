{
 "cells": [
  {
   "cell_type": "markdown",
   "metadata": {},
   "source": [
    "## 神经网络中 batchsize、epoch、Iteration 的相关理解和说明 \n",
    "https://blog.csdn.net/qq_18668137/article/details/80883350\n",
    "\n",
    "### 1) batchsize（批大小）: 即一次训练的样本的数量\n",
    "    batch_size 将影响到模型的优化程序和速度；\n",
    "    batch_size 的正确选择是为了在内存效率和内存容量之间寻找最佳平衡；\n",
    "    \n",
    "    batch_size过小，训练数据会很难收敛，导致unfitting \n",
    "    增大batch_size ,相对处理速度加快，所需内存容量也会增加；\n",
    "    \n",
    "### 2）iteration（迭代）：迭代是重复反馈的动作，神经网络中我们希望通过迭代进行多次的训练以达到所需的目标或结果；\n",
    "    每一次迭代得到的结果，会成为下一次迭代的初始值 \n",
    "    一个迭代 = 一个正向通过 + 一个反向通过 \n",
    "    一次迭代 等于使用batch_size 个样本训练一次\n",
    "### 3）epoch（时期）：1个epoch等于使用训练集中的全部样本训练一次；\n",
    "\n",
    "例1：训练集有500个样本，batch_size=10 ; 那么，训练完整个样本集：迭代次数 interaction = 500/10 =50 ；epoch = 1\n",
    "\n",
    "例2：mnist 数据集有 60000 张图片作为训练数据，10000 张图片作为测试数据。假设现在选择  Batch Size = 100 对模型进行训练。迭代30000次。\n",
    "    batch_size = 100 \n",
    "    1个epoch需进行的迭代次数 interaction = 60000/100 = 600\n",
    "    累计迭代30000次， epoch = 30000/600 = 50\n",
    "    "
   ]
  },
  {
   "cell_type": "code",
   "execution_count": null,
   "metadata": {},
   "outputs": [],
   "source": []
  }
 ],
 "metadata": {
  "kernelspec": {
   "display_name": "Python 3",
   "language": "python",
   "name": "python3"
  },
  "language_info": {
   "codemirror_mode": {
    "name": "ipython",
    "version": 3
   },
   "file_extension": ".py",
   "mimetype": "text/x-python",
   "name": "python",
   "nbconvert_exporter": "python",
   "pygments_lexer": "ipython3",
   "version": "3.6.10"
  }
 },
 "nbformat": 4,
 "nbformat_minor": 4
}
