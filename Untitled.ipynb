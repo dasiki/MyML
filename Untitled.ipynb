{
 "cells": [
  {
   "cell_type": "markdown",
   "metadata": {},
   "source": [
    "## $$ selu(x)=scale * \\left\\{\n",
    "\\begin{aligned}\n",
    "x                          &, &if\\quad   &{x > 0}  \\\\\n",
    "\\alpha*(e^x - 1)           &, &if\\quad   &{x \\leq 0}  \\\\\n",
    "\\end{aligned}\n",
    "\\right.\n",
    "$$"
   ]
  },
  {
   "cell_type": "markdown",
   "metadata": {},
   "source": [
    "### $$tanh(x) = \\frac{sinh(x)}{cosh(x)} = \\frac{e^x -\n",
    "        e^{-x}}{e^x + e^{-x}}\n",
    "$$"
   ]
  },
  {
   "cell_type": "markdown",
   "metadata": {},
   "source": [
    "$$e_{test} = \\frac{1}{N^{'}}\\sum _{i=1}^{N}L(y_i,\\mathop f\\limits^\\wedge(x_i)) $$"
   ]
  },
  {
   "cell_type": "code",
   "execution_count": 1,
   "metadata": {},
   "outputs": [],
   "source": [
    "import numpy as np"
   ]
  },
  {
   "cell_type": "markdown",
   "metadata": {},
   "source": [
    "构造一个多项式 $1x^4 + 2x^3+3x^2+4x+5$ :"
   ]
  },
  {
   "cell_type": "markdown",
   "metadata": {},
   "source": [
    "#$$\\frac{2}{F_1}=\\frac{1}{Precision}+\\frac{1}{Recall}\\Rightarrow F_1 = \\frac{2TP}{2TP+FP+FN}$$\n"
   ]
  },
  {
   "cell_type": "code",
   "execution_count": null,
   "metadata": {},
   "outputs": [],
   "source": [
    "help(np.poly1d)"
   ]
  },
  {
   "cell_type": "markdown",
   "metadata": {},
   "source": [
    "$$P(Y|X)=\\frac{P(X,Y)}{P(X)}$$"
   ]
  },
  {
   "cell_type": "markdown",
   "metadata": {},
   "source": [
    "## $$L(Y,f(X))=\\left\\{\n",
    "\\begin{aligned}\n",
    "1,&    &Y\\neq f(X)\\\\\n",
    "0,&    &Y = f(X)\\\\\n",
    "\\end{aligned}\n",
    "\\right.\n",
    "$$"
   ]
  },
  {
   "cell_type": "markdown",
   "metadata": {},
   "source": [
    "## 训练误差是模型$Y=\\mathop f\\limits^{\\wedge}(x)$关于训练数据集的平均损失：$$R_{emp}(\\mathop f\\limits^{\\wedge})=\\frac{1}{N}\\sum_{i=1}^N L(y_i,\\mathop f\\limits^{\\wedge}(x_i))$$\n",
    "\n",
    "## 测试误差是模型$Y=\\mathop f\\limits^{\\land}(x)$关于测试数据集的平均损失:$$e_{test} = \\frac{1}{N^{'}}\\sum _{i=1}^{N}L(y_i,\\mathop f\\limits^\\wedge(x_i)) $$其中，$N^{'}$是测试样本数量"
   ]
  },
  {
   "cell_type": "markdown",
   "metadata": {},
   "source": [
    "## $$L(w) = \\frac{1}{N}\\sum_{i=1}^N(f(x_i;w) - y_i)^2 + \\frac{\\lambda}{2}||w||_2$$ \n",
    "## $$L(w) = \\frac{1}{N}\\sum_{i=1}^N(f(x_i;w) - y_i)^2 + \\lambda||w||_1$$"
   ]
  },
  {
   "cell_type": "markdown",
   "metadata": {},
   "source": [
    "## $$L(Y,f(X))=(Y-f(X))^2$$\n",
    "## $$L(Y,f(X))=|Y-f(X)|$$\n",
    "## $$L(Y,P(Y|X))=-logP(Y|X)$$\n",
    "## $$R_{exp}=E_p[L(Y,f(X))] = \\int_{X\\times Y}L(y,f(x))P(x,y)dxdy$$\n",
    "## $$R_{emp}=\\frac{1}{N}\\sum_{i=1}^N L(y_i,f(x_i))$$\n"
   ]
  },
  {
   "cell_type": "markdown",
   "metadata": {},
   "source": [
    "## $$Precision = \\frac{TP}{TP+FP}$$\n",
    "## $$Accuracy = \\frac{TP+TN}{TP+FP+TN+FN}$$\n",
    "## $$Recall = \\frac{TP}{TP+FN}$$\n",
    "## $$\\frac{2}{F_1} = \\frac{1}{Precision} + \\frac{1}{Recall} \\Rightarrow F_1 = \\frac{2TP}{2TP+FP+FN}$$"
   ]
  },
  {
   "cell_type": "markdown",
   "metadata": {},
   "source": [
    "$$$$"
   ]
  },
  {
   "cell_type": "markdown",
   "metadata": {},
   "source": [
    "$$$$"
   ]
  },
  {
   "cell_type": "markdown",
   "metadata": {},
   "source": [
    "### 7) 箭头\n",
    "$\\leftarrow or \\gets$ $\\rightarrow or \\to$ $\\leftrightarrow$ $\\Leftarrow$ $\\Rightarrow$ $\\Leftrightarrow$ $\\mapsto$ $\\hookleftarrow$ $\\leftharpoonup$ $\\leftharpoondown$ $\\rightleftharpoons$\n",
    "\n",
    "$\\longleftarrow$ $\\longrightarrow$ $\\longleftrightarrow$ $\\Longleftarrow$ $\\Longrightarrow$ $\\Longleftrightarrow$ $\\longmapsto$ $\\hookrightarrow$ $\\rightharpoonup$ $\\rightharpoondown$ $\\iff$\n",
    "\n",
    "$\\uparrow$ $\\downarrow$ $\\updownarrow$ $\\Uparrow$ $\\Downarrow$ $\\Updownarrow$ $\\nearrow$ $\\searrow$ $\\swarrow$ $\\nwarrow$ $\\leadsto$\n"
   ]
  },
  {
   "cell_type": "markdown",
   "metadata": {},
   "source": [
    "### 4）二元关系符 \n",
    "$>$  $<$  $=$  $\\leq$  $\\geq$  $\\equiv$  $\\ll$  $\\gg$  $\\doteq$  $\\prec$  $\\succ$ $\\sim$\n",
    "\n",
    "$\\preceq$ $\\succeq$ $\\simeq$ $\\subset$ $\\supset$ $\\approx$ $\\subseteq$ $\\supseteq$ $\\cong$ $\\sqsubset$ $\\sqsupset$ $\\Join$ \n",
    "\n",
    "$\\sqsubseteq$ $\\sqsupseteq$ $\\bowtie$ $\\in$ $\\ni or \\owns$ $\\propto$ $\\vdash$ $\\dashv$ $\\models$ $\\mid$ $\\parallel$ $\\perp$ \n",
    "\n",
    "$\\smile$ $\\frown$ $\\asymp$ $:$ $\\notin$ $\\neq or \\ne$ "
   ]
  },
  {
   "cell_type": "markdown",
   "metadata": {},
   "source": [
    " ### 5）二元运算符\n",
    "$+$ $-$ $\\pm$ $\\mp$ $\\triangleleft$ $\\cdot$ $\\div$ $\\triangleright$ $\\times$ $\\setminus$ $\\star$ \n",
    "\n",
    "$\\cup$ $\\cap$ $\\ast$ $\\sqcup$ $\\sqcap$ $\\circ$ $\\vee or \\lor$ $\\wedge or \\land$ $\\bullet$ $\\oplus$ $\\ominus$ $\\diamond$ \n",
    "\n",
    "$\\odot$ $\\oslash$ $\\uplus$ $\\otimes$ $\\bigcirc$ $\\amalg$ $\\bigtriangleup$ $\\bigtriangledown$ $\\dagger$ $\\lhd$ $\\rhd$ $\\ddagger$ \n",
    "\n",
    "$\\unlhd$ $\\unrhd$ $\\wr$"
   ]
  },
  {
   "cell_type": "markdown",
   "metadata": {},
   "source": [
    "$$$$"
   ]
  },
  {
   "cell_type": "markdown",
   "metadata": {},
   "source": [
    "$$$$"
   ]
  },
  {
   "cell_type": "markdown",
   "metadata": {},
   "source": [
    "$$$$"
   ]
  },
  {
   "cell_type": "markdown",
   "metadata": {},
   "source": [
    "$$$$"
   ]
  }
 ],
 "metadata": {
  "kernelspec": {
   "display_name": "Python 3",
   "language": "python",
   "name": "python3"
  },
  "language_info": {
   "codemirror_mode": {
    "name": "ipython",
    "version": 3
   },
   "file_extension": ".py",
   "mimetype": "text/x-python",
   "name": "python",
   "nbconvert_exporter": "python",
   "pygments_lexer": "ipython3",
   "version": "3.6.7"
  }
 },
 "nbformat": 4,
 "nbformat_minor": 4
}
