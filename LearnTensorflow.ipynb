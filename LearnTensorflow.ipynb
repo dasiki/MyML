{
 "cells": [
  {
   "cell_type": "markdown",
   "metadata": {},
   "source": [
    "### MNIST机器学习入门"
   ]
  },
  {
   "cell_type": "code",
   "execution_count": null,
   "metadata": {},
   "outputs": [],
   "source": [
    "# 下载数据集\n",
    "import tensorflow as tf \n",
    "\n",
    "from tensorflow.examples.tutorials.mnist import input_data\n",
    "\n",
    "mnist=input_data.read_data_sets(\"MNIST/\",one_hot=True)"
   ]
  },
  {
   "cell_type": "markdown",
   "metadata": {},
   "source": [
    "#### 判断图片是属于0-9中的哪一个，用SoftMax回归（如有90%的概率是8，有1%的概率是1）\n",
    "\n",
    "#### Step1: 为了得到一张图片属于某个特定数字类的证据,对图片进行加权求和，如果这个像素有很强的证据说明这张图片不属于该类，则权值为负，否则，权值为正；\n",
    "对于给定输入图片$x$,它代表数字$i$的证据可以表示为 $$evidence_i = \\sum_{j}W_{i,j}x_j + b_i$$\n",
    "\n",
    "其中，$W_i$ 代表权重，$b_i$ 代表数字$i$ 类的偏置量，$j$代表给定图片$x$的像素索引用于像素求和。然后，用$Softmax$函数将这些证据转换成概率$y$: $$y=softmax(evidence)$$ $softmax$可以看成是一个激励函数，$softmax$可以定义为：$$softmax(x)=normalize(exp(x)) = \\frac{exp(x_i)}{\\sum_{j}exp(x_j)}$$"
   ]
  },
  {
   "cell_type": "code",
   "execution_count": null,
   "metadata": {},
   "outputs": [],
   "source": [
    "import tensorflow as tf \n",
    "\n",
    "x=tf.placeholder(\"float\",[None,784]) # x是一个占位符placehold 用二维浮点数张量来表示这个张量的形状是[None,784],None表示第一个维度是任意长度的\n",
    "W=tf.Variable(tf.zeros([784,10])) # variable 是一个可修改的张量；对于各种机器学习应用中，一般都会有模型参数，可以用Variable表示\n",
    "b=tf.Variable(tf.zeros([10])) \n",
    "\n",
    "y=tf.nn.softmax(tf.matmul(x,W)+b)\n"
   ]
  },
  {
   "cell_type": "markdown",
   "metadata": {},
   "source": [
    "#### Step2 训练模型"
   ]
  },
  {
   "cell_type": "markdown",
   "metadata": {},
   "source": [
    "为了训练模型，需要定义一个指标来评估这个模型的好坏。即损失函数（loss)，然后尽量最小化\n",
    "交叉熵是一种损失函数。交叉熵产生于信息论中的信息压缩技术，用于衡量两个变量之间的相似性。定义如下：$$H_{y_{i}'}(y) = -\\sum_{i}y_{i}'log(y_i)$$ 其中，$y$ 是预测的概率分布，$y'$是实际的分布（我们输入的one-hot vector）"
   ]
  },
  {
   "cell_type": "code",
   "execution_count": null,
   "metadata": {},
   "outputs": [],
   "source": [
    "y_=tf.placeholder(\"float\",[None,10])\n",
    "\n",
    "cross_entropy = -tf.reduce_sum(y_*tf.log(y))"
   ]
  },
  {
   "cell_type": "code",
   "execution_count": null,
   "metadata": {},
   "outputs": [],
   "source": [
    "# tensorflow会用你选择的优化算法来不断地修改变量以降低成本\n",
    "# 在这里，使用梯度下降算法\n",
    "train_step = tf.train.GradientDescentOptimizer(0.01).minimize(cross_entropy)\n",
    "\n",
    "# 添加一个操作来初始化我们创建的变量：\n",
    "init=tf.initialize_all_variables()\n",
    "\n",
    "sess=tf.Session()\n",
    "sess.run(init)\n",
    "\n",
    "for i in range(1000):\n",
    "    batch_xs,batch_ys = mnist.train.next_batch(100)\n",
    "    sess.run(train_step,feed_dict={x: batch_xs,y_: batch_ys})"
   ]
  },
  {
   "cell_type": "markdown",
   "metadata": {},
   "source": [
    "### MNIST 进阶"
   ]
  },
  {
   "cell_type": "code",
   "execution_count": null,
   "metadata": {},
   "outputs": [],
   "source": [
    "import tensorflow as tf \n",
    "from tensorflow.examples.tutorials.mnist import input_data\n",
    "\n",
    "mnist=input_data.read_data_sets(\"MNIST/\",one_hot=True)\n",
    "\n",
    "sess = tf.InteractiveSession()\n",
    "\n",
    "# 占位符\n",
    "x=tf.placeholder(\"float\",shape=[None,784])\n",
    "y_=tf.placeholder(\"float\",shape=[None,10])\n",
    "# 变量\n",
    "W=tf.Variable(tf.zeros([784,10]))\n",
    "b=tf.Variable(tf.zeros([10]))\n",
    "\n",
    "sess.run(tf.global_variables_initializer())\n",
    "\n",
    "# 类别预测与损失函数\n",
    "y=tf.nn.softmax(tf.matmul(x,W)+b)\n",
    "cross_entropy = tf.reduce_sum(y_*tf.log(y))\n",
    "\n",
    "# 训练模型\n",
    "train_step = tf.train.GradientDescentOptimizer(0.01).minimize(cross_entropy)\n",
    "\n",
    "for i in range(1000):\n",
    "    batch = mnist.train.next_batch(50)\n",
    "#     train_step.run(feed_dict={x: batch[0], y_: batch[1]})\n",
    "    sess.run(train_step,feed_dict={x: batch[0], y_: batch[1]})\n",
    "    \n",
    "# 评估模型\n",
    "correct_prediction = tf.equal(tf.arg_max(y,1), tf.arg_max(y_ ,1))\n",
    "accuracy = tf.reduce_mean(tf.cast(correct_prediction , \"float\"))\n",
    "\n",
    "print(accuracy.eval(feed_dict = {x:mnist.test.images , y_:mnist.test.labels}))"
   ]
  },
  {
   "cell_type": "code",
   "execution_count": null,
   "metadata": {},
   "outputs": [],
   "source": [
    "import tensorflow as tf \n"
   ]
  },
  {
   "cell_type": "code",
   "execution_count": null,
   "metadata": {},
   "outputs": [],
   "source": [
    "tf.A"
   ]
  }
 ],
 "metadata": {
  "kernelspec": {
   "display_name": "Python 3",
   "language": "python",
   "name": "python3"
  },
  "language_info": {
   "codemirror_mode": {
    "name": "ipython",
    "version": 3
   },
   "file_extension": ".py",
   "mimetype": "text/x-python",
   "name": "python",
   "nbconvert_exporter": "python",
   "pygments_lexer": "ipython3",
   "version": "3.6.7"
  }
 },
 "nbformat": 4,
 "nbformat_minor": 4
}
